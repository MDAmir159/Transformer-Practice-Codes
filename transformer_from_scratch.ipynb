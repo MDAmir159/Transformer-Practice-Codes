{
  "nbformat": 4,
  "nbformat_minor": 0,
  "metadata": {
    "colab": {
      "provenance": [],
      "authorship_tag": "ABX9TyPunIO+VNObeqQ5vaoKsNTe",
      "include_colab_link": true
    },
    "kernelspec": {
      "name": "python3",
      "display_name": "Python 3"
    },
    "language_info": {
      "name": "python"
    }
  },
  "cells": [
    {
      "cell_type": "markdown",
      "metadata": {
        "id": "view-in-github",
        "colab_type": "text"
      },
      "source": [
        "<a href=\"https://colab.research.google.com/github/MDAmir159/Transformer-Practice-Codes/blob/main/transformer_from_scratch.ipynb\" target=\"_parent\"><img src=\"https://colab.research.google.com/assets/colab-badge.svg\" alt=\"Open In Colab\"/></a>"
      ]
    },
    {
      "cell_type": "code",
      "execution_count": 1,
      "metadata": {
        "id": "NCQ5H4c3egzL"
      },
      "outputs": [],
      "source": [
        "import torch\n",
        "import torch.nn as nn\n",
        "import torch.optim as optim\n",
        "import torch.utils.data as data\n",
        "import math\n",
        "import copy"
      ]
    },
    {
      "cell_type": "code",
      "source": [
        "class MultiHeadAttention(nn.Module):\n",
        "    def __init__(self, d_model, num_heads):\n",
        "        super(MultiHeadAttention, self).__init__()\n",
        "        # Ensure that the model dimension (d_model) is divisible by the number of heads\n",
        "        assert d_model % num_heads == 0, \"d_model must be divisible by num_heads\"\n",
        "\n",
        "        # Initialize dimensions\n",
        "        self.d_model = d_model # Model's dimension\n",
        "        self.num_heads = num_heads # Number of attention heads\n",
        "        self.d_k = d_model // num_heads # Dimension of each head's key, query, and value\n",
        "\n",
        "        # Linear layers for transforming inputs\n",
        "        self.W_q = nn.Linear(d_model, d_model) # Query transformation\n",
        "        self.W_k = nn.Linear(d_model, d_model) # Key transformation\n",
        "        self.W_v = nn.Linear(d_model, d_model) # Value transformation\n",
        "        self.W_o = nn.Linear(d_model, d_model) # Output transformation\n",
        "\n",
        "    def scaled_dot_product_attention(self, Q, K, V, mask=None):\n",
        "        # Calculate attention scores\n",
        "        attn_scores = torch.matmul(Q, K.transpose(-2, -1)) / math.sqrt(self.d_k)\n",
        "\n",
        "        # Apply mask if provided (useful for preventing attention to certain parts like padding)\n",
        "        if mask is not None:\n",
        "            attn_scores = attn_scores.masked_fill(mask == 0, -1e9)\n",
        "\n",
        "        # Softmax is applied to obtain attention probabilities\n",
        "        attn_probs = torch.softmax(attn_scores, dim=-1)\n",
        "\n",
        "        # Multiply by values to obtain the final output\n",
        "        output = torch.matmul(attn_probs, V)\n",
        "        return output\n",
        "\n",
        "    def split_heads(self, x):\n",
        "        # Reshape the input to have num_heads for multi-head attention\n",
        "        batch_size, seq_length, d_model = x.size()\n",
        "        return x.view(batch_size, seq_length, self.num_heads, self.d_k).transpose(1, 2)\n",
        "\n",
        "    def combine_heads(self, x):\n",
        "        # Combine the multiple heads back to original shape\n",
        "        batch_size, _, seq_length, d_k = x.size()\n",
        "        return x.transpose(1, 2).contiguous().view(batch_size, seq_length, self.d_model)\n",
        "\n",
        "    def forward(self, Q, K, V, mask=None):\n",
        "        # Apply linear transformations and split heads\n",
        "        Q = self.split_heads(self.W_q(Q))\n",
        "        K = self.split_heads(self.W_k(K))\n",
        "        V = self.split_heads(self.W_v(V))\n",
        "\n",
        "        # Perform scaled dot-product attention\n",
        "        attn_output = self.scaled_dot_product_attention(Q, K, V, mask)\n",
        "\n",
        "        # Combine heads and apply output transformation\n",
        "        output = self.W_o(self.combine_heads(attn_output))\n",
        "        return output"
      ],
      "metadata": {
        "id": "7-m1-UtNe7UC"
      },
      "execution_count": 2,
      "outputs": []
    },
    {
      "cell_type": "code",
      "source": [
        "class PositionWiseFeedForward(nn.Module):\n",
        "    def __init__(self, d_model, d_ff):\n",
        "        super(PositionWiseFeedForward, self).__init__()\n",
        "        self.fc1 = nn.Linear(d_model, d_ff)\n",
        "        self.fc2 = nn.Linear(d_ff, d_model)\n",
        "        self.relu = nn.ReLU()\n",
        "\n",
        "    def forward(self, x):\n",
        "        return self.fc2(self.relu(self.fc1(x)))"
      ],
      "metadata": {
        "id": "L3-2sTJ0fJLe"
      },
      "execution_count": 3,
      "outputs": []
    },
    {
      "cell_type": "code",
      "source": [
        "class PositionalEncoding(nn.Module):\n",
        "    def __init__(self, d_model, max_seq_length):\n",
        "        super(PositionalEncoding, self).__init__()\n",
        "\n",
        "        pe = torch.zeros(max_seq_length, d_model)\n",
        "        position = torch.arange(0, max_seq_length, dtype=torch.float).unsqueeze(1)\n",
        "        div_term = torch.exp(torch.arange(0, d_model, 2).float() * -(math.log(10000.0) / d_model))\n",
        "\n",
        "        pe[:, 0::2] = torch.sin(position * div_term)\n",
        "        pe[:, 1::2] = torch.cos(position * div_term)\n",
        "\n",
        "        self.register_buffer('pe', pe.unsqueeze(0))\n",
        "\n",
        "    def forward(self, x):\n",
        "        return x + self.pe[:, :x.size(1)]"
      ],
      "metadata": {
        "id": "jqIY23QmgKII"
      },
      "execution_count": 4,
      "outputs": []
    },
    {
      "cell_type": "code",
      "source": [
        "class EncoderLayer(nn.Module):\n",
        "    def __init__(self, d_model, num_heads, d_ff, dropout):\n",
        "        super(EncoderLayer, self).__init__()\n",
        "        self.self_attn = MultiHeadAttention(d_model, num_heads)\n",
        "        self.feed_forward = PositionWiseFeedForward(d_model, d_ff)\n",
        "        self.norm1 = nn.LayerNorm(d_model)\n",
        "        self.norm2 = nn.LayerNorm(d_model)\n",
        "        self.dropout = nn.Dropout(dropout)\n",
        "\n",
        "    def forward(self, x, mask):\n",
        "        attn_output = self.self_attn(x, x, x, mask)\n",
        "        x = self.norm1(x + self.dropout(attn_output))\n",
        "        ff_output = self.feed_forward(x)\n",
        "        x = self.norm2(x + self.dropout(ff_output))\n",
        "        return x"
      ],
      "metadata": {
        "id": "Mt5sJcUsgQ3t"
      },
      "execution_count": 5,
      "outputs": []
    },
    {
      "cell_type": "code",
      "source": [
        "class DecoderLayer(nn.Module):\n",
        "    def __init__(self, d_model, num_heads, d_ff, dropout):\n",
        "        super(DecoderLayer, self).__init__()\n",
        "        self.self_attn = MultiHeadAttention(d_model, num_heads)\n",
        "        self.cross_attn = MultiHeadAttention(d_model, num_heads)\n",
        "        self.feed_forward = PositionWiseFeedForward(d_model, d_ff)\n",
        "        self.norm1 = nn.LayerNorm(d_model)\n",
        "        self.norm2 = nn.LayerNorm(d_model)\n",
        "        self.norm3 = nn.LayerNorm(d_model)\n",
        "        self.dropout = nn.Dropout(dropout)\n",
        "\n",
        "    def forward(self, x, enc_output, src_mask, tgt_mask):\n",
        "        attn_output = self.self_attn(x, x, x, tgt_mask)\n",
        "        x = self.norm1(x + self.dropout(attn_output))\n",
        "        attn_output = self.cross_attn(x, enc_output, enc_output, src_mask)\n",
        "        x = self.norm2(x + self.dropout(attn_output))\n",
        "        ff_output = self.feed_forward(x)\n",
        "        x = self.norm3(x + self.dropout(ff_output))\n",
        "        return x"
      ],
      "metadata": {
        "id": "AEgpwG7xgZk2"
      },
      "execution_count": 6,
      "outputs": []
    },
    {
      "cell_type": "code",
      "source": [
        "class Transformer(nn.Module):\n",
        "    def __init__(self, src_vocab_size, tgt_vocab_size, d_model, num_heads, num_layers, d_ff, max_seq_length, dropout):\n",
        "        super(Transformer, self).__init__()\n",
        "        self.encoder_embedding = nn.Embedding(src_vocab_size, d_model)\n",
        "        self.decoder_embedding = nn.Embedding(tgt_vocab_size, d_model)\n",
        "        self.positional_encoding = PositionalEncoding(d_model, max_seq_length)\n",
        "\n",
        "        self.encoder_layers = nn.ModuleList([EncoderLayer(d_model, num_heads, d_ff, dropout) for _ in range(num_layers)])\n",
        "        self.decoder_layers = nn.ModuleList([DecoderLayer(d_model, num_heads, d_ff, dropout) for _ in range(num_layers)])\n",
        "\n",
        "        self.fc = nn.Linear(d_model, tgt_vocab_size)\n",
        "        self.dropout = nn.Dropout(dropout)\n",
        "\n",
        "    def generate_mask(self, src, tgt):\n",
        "        src_mask = (src != 0).unsqueeze(1).unsqueeze(2)\n",
        "        tgt_mask = (tgt != 0).unsqueeze(1).unsqueeze(3)\n",
        "        seq_length = tgt.size(1)\n",
        "        nopeak_mask = (1 - torch.triu(torch.ones(1, seq_length, seq_length), diagonal=1)).bool()\n",
        "        tgt_mask = tgt_mask & nopeak_mask\n",
        "        return src_mask, tgt_mask\n",
        "\n",
        "    def forward(self, src, tgt):\n",
        "        src_mask, tgt_mask = self.generate_mask(src, tgt)\n",
        "        src_embedded = self.dropout(self.positional_encoding(self.encoder_embedding(src)))\n",
        "        tgt_embedded = self.dropout(self.positional_encoding(self.decoder_embedding(tgt)))\n",
        "\n",
        "        enc_output = src_embedded\n",
        "        for enc_layer in self.encoder_layers:\n",
        "            enc_output = enc_layer(enc_output, src_mask)\n",
        "\n",
        "        dec_output = tgt_embedded\n",
        "        for dec_layer in self.decoder_layers:\n",
        "            dec_output = dec_layer(dec_output, enc_output, src_mask, tgt_mask)\n",
        "\n",
        "        output = self.fc(dec_output)\n",
        "        return output"
      ],
      "metadata": {
        "id": "sg7cJcMFgfMd"
      },
      "execution_count": 7,
      "outputs": []
    },
    {
      "cell_type": "code",
      "source": [
        "src_vocab_size = 5000\n",
        "tgt_vocab_size = 5000\n",
        "d_model = 512\n",
        "num_heads = 8\n",
        "num_layers = 6\n",
        "d_ff = 2048\n",
        "max_seq_length = 100\n",
        "dropout = 0.1\n",
        "\n",
        "transformer = Transformer(src_vocab_size, tgt_vocab_size, d_model, num_heads, num_layers, d_ff, max_seq_length, dropout)\n",
        "\n",
        "# Generate random sample data\n",
        "src_data = torch.randint(1, src_vocab_size, (64, max_seq_length))  # (batch_size, seq_length)\n",
        "tgt_data = torch.randint(1, tgt_vocab_size, (64, max_seq_length))  # (batch_size, seq_length)"
      ],
      "metadata": {
        "id": "rKnXR0-AgjX9"
      },
      "execution_count": 8,
      "outputs": []
    },
    {
      "cell_type": "code",
      "source": [
        "src_vocab_size = 5000\n",
        "tgt_vocab_size = 5000\n",
        "d_model = 512\n",
        "num_heads = 8\n",
        "num_layers = 6\n",
        "d_ff = 2048\n",
        "max_seq_length = 100\n",
        "dropout = 0.1\n",
        "\n",
        "transformer = Transformer(src_vocab_size, tgt_vocab_size, d_model, num_heads, num_layers, d_ff, max_seq_length, dropout)\n",
        "\n",
        "# Generate random sample data\n",
        "src_data = torch.randint(1, src_vocab_size, (64, max_seq_length))  # (batch_size, seq_length)\n",
        "tgt_data = torch.randint(1, tgt_vocab_size, (64, max_seq_length))  # (batch_size, seq_length)"
      ],
      "metadata": {
        "id": "QSLZMNxIgoHW"
      },
      "execution_count": 9,
      "outputs": []
    },
    {
      "cell_type": "code",
      "source": [
        "transformer = Transformer(src_vocab_size, tgt_vocab_size, d_model, num_heads, num_layers, d_ff, max_seq_length, dropout)"
      ],
      "metadata": {
        "id": "QGDuDtgk0LIE"
      },
      "execution_count": 10,
      "outputs": []
    },
    {
      "cell_type": "code",
      "source": [
        "criterion = nn.CrossEntropyLoss(ignore_index=0)\n",
        "optimizer = optim.Adam(transformer.parameters(), lr=0.0001, betas=(0.9, 0.98), eps=1e-9)\n",
        "\n",
        "transformer.train()\n",
        "\n",
        "for epoch in range(100):\n",
        "    optimizer.zero_grad()\n",
        "    output = transformer(src_data, tgt_data[:, :-1])\n",
        "    loss = criterion(output.contiguous().view(-1, tgt_vocab_size), tgt_data[:, 1:].contiguous().view(-1))\n",
        "    loss.backward()\n",
        "    optimizer.step()\n",
        "    print(f\"Epoch: {epoch+1}, Loss: {loss.item()}\")"
      ],
      "metadata": {
        "colab": {
          "base_uri": "https://localhost:8080/"
        },
        "id": "SQIFCsjY0Nj0",
        "outputId": "7dbe1d15-da02-4750-95e7-d0f9b32aa98e"
      },
      "execution_count": 11,
      "outputs": [
        {
          "output_type": "stream",
          "name": "stdout",
          "text": [
            "Epoch: 1, Loss: 8.681151390075684\n",
            "Epoch: 2, Loss: 8.54971981048584\n",
            "Epoch: 3, Loss: 8.482999801635742\n",
            "Epoch: 4, Loss: 8.427959442138672\n",
            "Epoch: 5, Loss: 8.37204647064209\n",
            "Epoch: 6, Loss: 8.310066223144531\n",
            "Epoch: 7, Loss: 8.228708267211914\n",
            "Epoch: 8, Loss: 8.140142440795898\n",
            "Epoch: 9, Loss: 8.060868263244629\n",
            "Epoch: 10, Loss: 7.977595806121826\n",
            "Epoch: 11, Loss: 7.90011739730835\n",
            "Epoch: 12, Loss: 7.811981678009033\n",
            "Epoch: 13, Loss: 7.729783058166504\n",
            "Epoch: 14, Loss: 7.648186683654785\n",
            "Epoch: 15, Loss: 7.561662197113037\n",
            "Epoch: 16, Loss: 7.481119155883789\n",
            "Epoch: 17, Loss: 7.396917819976807\n",
            "Epoch: 18, Loss: 7.3138322830200195\n",
            "Epoch: 19, Loss: 7.238272190093994\n",
            "Epoch: 20, Loss: 7.152575969696045\n",
            "Epoch: 21, Loss: 7.0784687995910645\n",
            "Epoch: 22, Loss: 6.999294281005859\n",
            "Epoch: 23, Loss: 6.9191060066223145\n",
            "Epoch: 24, Loss: 6.844754695892334\n",
            "Epoch: 25, Loss: 6.761712074279785\n",
            "Epoch: 26, Loss: 6.684288024902344\n",
            "Epoch: 27, Loss: 6.608885288238525\n",
            "Epoch: 28, Loss: 6.5360870361328125\n",
            "Epoch: 29, Loss: 6.466968059539795\n",
            "Epoch: 30, Loss: 6.39884614944458\n",
            "Epoch: 31, Loss: 6.328491687774658\n",
            "Epoch: 32, Loss: 6.267209053039551\n",
            "Epoch: 33, Loss: 6.2077555656433105\n",
            "Epoch: 34, Loss: 6.133768081665039\n",
            "Epoch: 35, Loss: 6.060759544372559\n",
            "Epoch: 36, Loss: 5.99513053894043\n",
            "Epoch: 37, Loss: 5.927362442016602\n",
            "Epoch: 38, Loss: 5.864192008972168\n",
            "Epoch: 39, Loss: 5.801103115081787\n",
            "Epoch: 40, Loss: 5.740307331085205\n",
            "Epoch: 41, Loss: 5.667228698730469\n",
            "Epoch: 42, Loss: 5.609518527984619\n",
            "Epoch: 43, Loss: 5.554539680480957\n",
            "Epoch: 44, Loss: 5.491913318634033\n",
            "Epoch: 45, Loss: 5.426217079162598\n",
            "Epoch: 46, Loss: 5.373188495635986\n",
            "Epoch: 47, Loss: 5.312904357910156\n",
            "Epoch: 48, Loss: 5.252957820892334\n",
            "Epoch: 49, Loss: 5.193029403686523\n",
            "Epoch: 50, Loss: 5.139750003814697\n",
            "Epoch: 51, Loss: 5.078073024749756\n",
            "Epoch: 52, Loss: 5.024051666259766\n",
            "Epoch: 53, Loss: 4.968186378479004\n",
            "Epoch: 54, Loss: 4.9142165184021\n",
            "Epoch: 55, Loss: 4.863539695739746\n",
            "Epoch: 56, Loss: 4.809694766998291\n",
            "Epoch: 57, Loss: 4.75557279586792\n",
            "Epoch: 58, Loss: 4.7028889656066895\n",
            "Epoch: 59, Loss: 4.647947788238525\n",
            "Epoch: 60, Loss: 4.5930280685424805\n",
            "Epoch: 61, Loss: 4.5405731201171875\n",
            "Epoch: 62, Loss: 4.496303558349609\n",
            "Epoch: 63, Loss: 4.438962459564209\n",
            "Epoch: 64, Loss: 4.3861985206604\n",
            "Epoch: 65, Loss: 4.336782932281494\n",
            "Epoch: 66, Loss: 4.2835493087768555\n",
            "Epoch: 67, Loss: 4.235915660858154\n",
            "Epoch: 68, Loss: 4.18223762512207\n",
            "Epoch: 69, Loss: 4.135490417480469\n",
            "Epoch: 70, Loss: 4.0883588790893555\n",
            "Epoch: 71, Loss: 4.04542350769043\n",
            "Epoch: 72, Loss: 3.9932475090026855\n",
            "Epoch: 73, Loss: 3.945951461791992\n",
            "Epoch: 74, Loss: 3.8933839797973633\n",
            "Epoch: 75, Loss: 3.8457729816436768\n",
            "Epoch: 76, Loss: 3.7994608879089355\n",
            "Epoch: 77, Loss: 3.7492034435272217\n",
            "Epoch: 78, Loss: 3.710812568664551\n",
            "Epoch: 79, Loss: 3.6612696647644043\n",
            "Epoch: 80, Loss: 3.6118197441101074\n",
            "Epoch: 81, Loss: 3.563096284866333\n",
            "Epoch: 82, Loss: 3.524458408355713\n",
            "Epoch: 83, Loss: 3.4661457538604736\n",
            "Epoch: 84, Loss: 3.427570104598999\n",
            "Epoch: 85, Loss: 3.3760156631469727\n",
            "Epoch: 86, Loss: 3.3330881595611572\n",
            "Epoch: 87, Loss: 3.2930543422698975\n",
            "Epoch: 88, Loss: 3.243016004562378\n",
            "Epoch: 89, Loss: 3.20125150680542\n",
            "Epoch: 90, Loss: 3.1516127586364746\n",
            "Epoch: 91, Loss: 3.110673427581787\n",
            "Epoch: 92, Loss: 3.071200370788574\n",
            "Epoch: 93, Loss: 3.0282845497131348\n",
            "Epoch: 94, Loss: 2.9861369132995605\n",
            "Epoch: 95, Loss: 2.9531240463256836\n",
            "Epoch: 96, Loss: 2.9058072566986084\n",
            "Epoch: 97, Loss: 2.8587028980255127\n",
            "Epoch: 98, Loss: 2.814657211303711\n",
            "Epoch: 99, Loss: 2.773836374282837\n",
            "Epoch: 100, Loss: 2.723444700241089\n"
          ]
        }
      ]
    },
    {
      "cell_type": "code",
      "source": [],
      "metadata": {
        "id": "EdZwqATu0TlT"
      },
      "execution_count": 11,
      "outputs": []
    }
  ]
}